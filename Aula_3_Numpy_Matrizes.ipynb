{
  "nbformat": 4,
  "nbformat_minor": 0,
  "metadata": {
    "colab": {
      "provenance": [],
      "collapsed_sections": []
    },
    "kernelspec": {
      "name": "python3",
      "display_name": "Python 3"
    },
    "language_info": {
      "name": "python"
    }
  },
  "cells": [
    {
      "cell_type": "markdown",
      "source": [
        "# Aula 3 - Numpy: Matrizes"
      ],
      "metadata": {
        "id": "4vwYaEbEZ4nY"
      }
    },
    {
      "cell_type": "markdown",
      "source": [
        "Prof. Tiago Dias\n",
        "\n",
        "[Linkedin](https://www.linkedin.com/in/diasctiago/) | [Github](https://github.com/diasctiago) | [Blog](https://www.dadosaocubo.com/)"
      ],
      "metadata": {
        "id": "VrGqrCrkaCuu"
      }
    },
    {
      "cell_type": "markdown",
      "source": [
        "## O que é NumPy?"
      ],
      "metadata": {
        "id": "3tJjkEuEiBcX"
      }
    },
    {
      "cell_type": "markdown",
      "source": [
        "O NumPy oferece funções matemáticas, geradores de números aleatórios, rotinas de álgebra linear, transformadas de Fourier e muito mais.\n",
        "\n",
        "Com o NumPy é possível trabalhar com numeros em todas as suas formas, como exemplificado na figura abaixo."
      ],
      "metadata": {
        "id": "W3-C-Fowift6"
      }
    },
    {
      "cell_type": "markdown",
      "source": [
        "| ![Dados](https://i0.wp.com/dadosaocubo.com/wp-content/uploads/2020/07/image1-3.png?w=880&ssl=1) |\n",
        "|:--:| \n",
        "| **Figura** – _Escalares, vetores, matrizes e tensores_ (Fonte da imagem: internet, autor desconhecido) |"
      ],
      "metadata": {
        "id": "pdLcW1kbhn5X"
      }
    },
    {
      "cell_type": "markdown",
      "source": [
        "*   **Escalar -** O escalar é um número qualquer\n",
        "*   **Vetor -** O vetor são vários escalares em uma representação unidimensional (uma dimensão)\n",
        "*   **Matriz -** A matriz são vetores bidimensionais (duas dimensões)\n",
        "*   **TENSOR** - O tensor são as junções de matrizes (três dimensões)\n",
        "\n"
      ],
      "metadata": {
        "id": "tlN_6WOLjO5f"
      }
    },
    {
      "cell_type": "markdown",
      "source": [
        "## Prática com numpy"
      ],
      "metadata": {
        "id": "dGiQ08BMiJkx"
      }
    },
    {
      "cell_type": "code",
      "source": [
        "# Instalando a biblioteca\n",
        "!pip install numpy"
      ],
      "metadata": {
        "colab": {
          "base_uri": "https://localhost:8080/"
        },
        "id": "kR1RrqnrN3fl",
        "outputId": "ef2e12c4-c194-4211-cf39-3004e822e8c4"
      },
      "execution_count": null,
      "outputs": [
        {
          "output_type": "stream",
          "name": "stdout",
          "text": [
            "Looking in indexes: https://pypi.org/simple, https://us-python.pkg.dev/colab-wheels/public/simple/\n",
            "Requirement already satisfied: numpy in /usr/local/lib/python3.7/dist-packages (1.21.6)\n"
          ]
        }
      ]
    },
    {
      "cell_type": "code",
      "source": [
        "# importando a biblioteca\n",
        "import numpy as np"
      ],
      "metadata": {
        "id": "wAx7pwYENqqs"
      },
      "execution_count": null,
      "outputs": []
    },
    {
      "cell_type": "code",
      "source": [
        "# criando array em todas as dimensões"
      ],
      "metadata": {
        "id": "PJRpty1E7n4f"
      },
      "execution_count": null,
      "outputs": []
    },
    {
      "cell_type": "code",
      "source": [
        "# escalar\n",
        "d0 = np.array(10)\n",
        "d0"
      ],
      "metadata": {
        "colab": {
          "base_uri": "https://localhost:8080/"
        },
        "id": "gPIy19-f7n08",
        "outputId": "a813941b-b48c-48c1-e8ca-9c1d5dd4c15e"
      },
      "execution_count": null,
      "outputs": [
        {
          "output_type": "execute_result",
          "data": {
            "text/plain": [
              "array(10)"
            ]
          },
          "metadata": {},
          "execution_count": 110
        }
      ]
    },
    {
      "cell_type": "code",
      "source": [
        "# vetor\n",
        "d1 = np.array([10,20,30,40,50])\n",
        "d1"
      ],
      "metadata": {
        "colab": {
          "base_uri": "https://localhost:8080/"
        },
        "id": "IEsehaHH7nxd",
        "outputId": "e5eadefa-5bdf-4a71-fe87-cfe58cc92a3e"
      },
      "execution_count": null,
      "outputs": [
        {
          "output_type": "execute_result",
          "data": {
            "text/plain": [
              "array([10, 20, 30, 40, 50])"
            ]
          },
          "metadata": {},
          "execution_count": 111
        }
      ]
    },
    {
      "cell_type": "code",
      "source": [
        "# matriz\n",
        "d2 = np.array([[0,1,2],\n",
        "               [3,4,5],\n",
        "               [6,7,8]])\n",
        "d2"
      ],
      "metadata": {
        "colab": {
          "base_uri": "https://localhost:8080/"
        },
        "id": "hHvSn8DS7nuf",
        "outputId": "25d2e113-d01b-4e40-fbdb-3ce11a45a161"
      },
      "execution_count": null,
      "outputs": [
        {
          "output_type": "execute_result",
          "data": {
            "text/plain": [
              "array([[0, 1, 2],\n",
              "       [3, 4, 5],\n",
              "       [6, 7, 8]])"
            ]
          },
          "metadata": {},
          "execution_count": 120
        }
      ]
    },
    {
      "cell_type": "code",
      "source": [
        "# tensor\n",
        "d3 = np.array([[[0,1,2],\n",
        "                [3,4,5],\n",
        "                [6,7,8]],\n",
        "               \n",
        "               [[0,1,2],\n",
        "                [3,4,5],\n",
        "                [6,7,8]]])\n",
        "d3"
      ],
      "metadata": {
        "colab": {
          "base_uri": "https://localhost:8080/"
        },
        "id": "yWifPAdlppYF",
        "outputId": "253470d2-536d-4a91-b531-b09d8fe20250"
      },
      "execution_count": null,
      "outputs": [
        {
          "output_type": "execute_result",
          "data": {
            "text/plain": [
              "array([[[0, 1, 2],\n",
              "        [3, 4, 5],\n",
              "        [6, 7, 8]],\n",
              "\n",
              "       [[0, 1, 2],\n",
              "        [3, 4, 5],\n",
              "        [6, 7, 8]]])"
            ]
          },
          "metadata": {},
          "execution_count": 121
        }
      ]
    },
    {
      "cell_type": "code",
      "source": [
        "# função para checar dimensões dos elementos\n",
        "def verifica_array(arr):\n",
        "  print(f'{arr} - tipo {type(arr)}, dimensão {arr.ndim}, tamanho {arr.size} e shape {arr.shape}')"
      ],
      "metadata": {
        "id": "OuthuOAeqj_j"
      },
      "execution_count": null,
      "outputs": []
    },
    {
      "cell_type": "code",
      "source": [
        "verifica_array(d0)"
      ],
      "metadata": {
        "id": "60JgWsZdqpMA",
        "colab": {
          "base_uri": "https://localhost:8080/"
        },
        "outputId": "a64193c7-8ad8-4e9d-f7f7-59f0dab538e1"
      },
      "execution_count": null,
      "outputs": [
        {
          "output_type": "stream",
          "name": "stdout",
          "text": [
            "10 - tipo <class 'numpy.ndarray'>, dimensão 0, tamanho 1 e shape ()\n"
          ]
        }
      ]
    },
    {
      "cell_type": "code",
      "source": [
        "verifica_array(d1)"
      ],
      "metadata": {
        "colab": {
          "base_uri": "https://localhost:8080/"
        },
        "id": "KQ843dt-rAKF",
        "outputId": "173078a7-1880-43e8-fc7d-4d4f23d53dac"
      },
      "execution_count": null,
      "outputs": [
        {
          "output_type": "stream",
          "name": "stdout",
          "text": [
            "[10 20 30 40 50] - tipo <class 'numpy.ndarray'>, dimensão 1, tamanho 5 e shape (5,)\n"
          ]
        }
      ]
    },
    {
      "cell_type": "code",
      "source": [
        "verifica_array(d2)"
      ],
      "metadata": {
        "colab": {
          "base_uri": "https://localhost:8080/"
        },
        "id": "xZPyu-SvHIbf",
        "outputId": "e66449f9-3ae7-450b-e5fb-147626031e7e"
      },
      "execution_count": null,
      "outputs": [
        {
          "output_type": "stream",
          "name": "stdout",
          "text": [
            "[[0 1 2]\n",
            " [3 4 5]\n",
            " [6 7 8]] - tipo <class 'numpy.ndarray'>, dimensão 2, tamanho 9 e shape (3, 3)\n"
          ]
        }
      ]
    },
    {
      "cell_type": "code",
      "source": [
        "verifica_array(d3)"
      ],
      "metadata": {
        "colab": {
          "base_uri": "https://localhost:8080/"
        },
        "id": "oHJS82KBHUHm",
        "outputId": "bad6f61d-3b04-4f2e-c6aa-f7b9678b3d7b"
      },
      "execution_count": null,
      "outputs": [
        {
          "output_type": "stream",
          "name": "stdout",
          "text": [
            "[[[0 1 2]\n",
            "  [3 4 5]\n",
            "  [6 7 8]]\n",
            "\n",
            " [[0 1 2]\n",
            "  [3 4 5]\n",
            "  [6 7 8]]] - tipo <class 'numpy.ndarray'>, dimensão 3, tamanho 18 e shape (2, 3, 3)\n"
          ]
        }
      ]
    },
    {
      "cell_type": "code",
      "source": [
        "# acessando os valores do array em todas as dimensões"
      ],
      "metadata": {
        "id": "eswXMNUX6pNt"
      },
      "execution_count": null,
      "outputs": []
    },
    {
      "cell_type": "code",
      "source": [
        "# escalar\n",
        "d0.item()"
      ],
      "metadata": {
        "colab": {
          "base_uri": "https://localhost:8080/"
        },
        "id": "dKb9-xwsscxX",
        "outputId": "0accaebb-078e-487c-a8a8-c21bb4220e99"
      },
      "execution_count": null,
      "outputs": [
        {
          "output_type": "execute_result",
          "data": {
            "text/plain": [
              "10"
            ]
          },
          "metadata": {},
          "execution_count": 124
        }
      ]
    },
    {
      "cell_type": "code",
      "source": [
        "# vetor\n",
        "d1[0]"
      ],
      "metadata": {
        "colab": {
          "base_uri": "https://localhost:8080/"
        },
        "id": "41AVLxfW6FFN",
        "outputId": "a8123b78-a6b9-4cde-c922-311b2f4bf6d9"
      },
      "execution_count": null,
      "outputs": [
        {
          "output_type": "execute_result",
          "data": {
            "text/plain": [
              "10"
            ]
          },
          "metadata": {},
          "execution_count": 126
        }
      ]
    },
    {
      "cell_type": "code",
      "source": [
        "# matriz\n",
        "d2, d2[0], d2[0][0], d2[0,0]"
      ],
      "metadata": {
        "colab": {
          "base_uri": "https://localhost:8080/"
        },
        "id": "HYvbwPpE6Lz3",
        "outputId": "a9340962-a389-4d94-8304-f414a6499401"
      },
      "execution_count": null,
      "outputs": [
        {
          "output_type": "execute_result",
          "data": {
            "text/plain": [
              "(array([[0, 1, 2],\n",
              "        [3, 4, 5],\n",
              "        [6, 7, 8]]), array([0, 1, 2]), 0, 0)"
            ]
          },
          "metadata": {},
          "execution_count": 140
        }
      ]
    },
    {
      "cell_type": "code",
      "source": [
        "# tensor\n",
        "d3, d3[0], d3[0][0], d3[0][0][0], d3[0,0,0]"
      ],
      "metadata": {
        "colab": {
          "base_uri": "https://localhost:8080/"
        },
        "id": "_pWwF8zb6Wrg",
        "outputId": "6a057092-9950-45cd-c697-39c6ca6a4437"
      },
      "execution_count": null,
      "outputs": [
        {
          "output_type": "execute_result",
          "data": {
            "text/plain": [
              "(array([[[0, 1, 2],\n",
              "         [3, 4, 5],\n",
              "         [6, 7, 8]],\n",
              " \n",
              "        [[0, 1, 2],\n",
              "         [3, 4, 5],\n",
              "         [6, 7, 8]]]), array([[0, 1, 2],\n",
              "        [3, 4, 5],\n",
              "        [6, 7, 8]]), array([0, 1, 2]), 0, 0)"
            ]
          },
          "metadata": {},
          "execution_count": 145
        }
      ]
    },
    {
      "cell_type": "code",
      "source": [],
      "metadata": {
        "id": "qOhwI_TAJvxj"
      },
      "execution_count": null,
      "outputs": []
    },
    {
      "cell_type": "markdown",
      "source": [
        "### Operações matemáticas"
      ],
      "metadata": {
        "id": "NkpyTZf57CXU"
      }
    },
    {
      "cell_type": "code",
      "source": [
        "# soma de escalar"
      ],
      "metadata": {
        "id": "F0g3KTin7Yyw"
      },
      "execution_count": null,
      "outputs": []
    },
    {
      "cell_type": "code",
      "source": [
        "d0"
      ],
      "metadata": {
        "colab": {
          "base_uri": "https://localhost:8080/"
        },
        "id": "nr1hoeR-7LEK",
        "outputId": "917c72f1-b71e-494b-ae40-ac7816a2ebc1"
      },
      "execution_count": null,
      "outputs": [
        {
          "output_type": "execute_result",
          "data": {
            "text/plain": [
              "array(10)"
            ]
          },
          "metadata": {},
          "execution_count": 148
        }
      ]
    },
    {
      "cell_type": "code",
      "source": [
        "d0 + d0"
      ],
      "metadata": {
        "colab": {
          "base_uri": "https://localhost:8080/"
        },
        "id": "FnEfe0wi64jg",
        "outputId": "5e67cd18-9db7-4a66-fa8d-a090693a2593"
      },
      "execution_count": null,
      "outputs": [
        {
          "output_type": "execute_result",
          "data": {
            "text/plain": [
              "20"
            ]
          },
          "metadata": {},
          "execution_count": 149
        }
      ]
    },
    {
      "cell_type": "code",
      "source": [
        "d0 + 1"
      ],
      "metadata": {
        "colab": {
          "base_uri": "https://localhost:8080/"
        },
        "id": "IosMziEJKbtC",
        "outputId": "227779d5-4fbd-4701-ea03-e15b695cd64d"
      },
      "execution_count": null,
      "outputs": [
        {
          "output_type": "execute_result",
          "data": {
            "text/plain": [
              "11"
            ]
          },
          "metadata": {},
          "execution_count": 152
        }
      ]
    },
    {
      "cell_type": "code",
      "source": [
        "# soma de vetor"
      ],
      "metadata": {
        "id": "N5Krx2-97b9z"
      },
      "execution_count": null,
      "outputs": []
    },
    {
      "cell_type": "code",
      "source": [
        "d1"
      ],
      "metadata": {
        "colab": {
          "base_uri": "https://localhost:8080/"
        },
        "id": "Y6fP5Hzn7MOA",
        "outputId": "8c1f4984-346a-487d-ff68-882b22694069"
      },
      "execution_count": null,
      "outputs": [
        {
          "output_type": "execute_result",
          "data": {
            "text/plain": [
              "array([10, 20, 30, 40, 50])"
            ]
          },
          "metadata": {},
          "execution_count": 150
        }
      ]
    },
    {
      "cell_type": "code",
      "source": [
        "d1 + d1"
      ],
      "metadata": {
        "colab": {
          "base_uri": "https://localhost:8080/"
        },
        "id": "0wjN3D9564gU",
        "outputId": "2d29f2bd-f79a-42b5-fdd3-dca15065614b"
      },
      "execution_count": null,
      "outputs": [
        {
          "output_type": "execute_result",
          "data": {
            "text/plain": [
              "array([ 20,  40,  60,  80, 100])"
            ]
          },
          "metadata": {},
          "execution_count": 151
        }
      ]
    },
    {
      "cell_type": "code",
      "source": [
        "d1 + 1"
      ],
      "metadata": {
        "colab": {
          "base_uri": "https://localhost:8080/"
        },
        "id": "nDxoII5XKezI",
        "outputId": "033facb8-ca65-4b24-b888-1c515657a081"
      },
      "execution_count": null,
      "outputs": [
        {
          "output_type": "execute_result",
          "data": {
            "text/plain": [
              "array([11, 21, 31, 41, 51])"
            ]
          },
          "metadata": {},
          "execution_count": 153
        }
      ]
    },
    {
      "cell_type": "code",
      "source": [
        "# soma de matriz"
      ],
      "metadata": {
        "id": "megiFgCS7fKG"
      },
      "execution_count": null,
      "outputs": []
    },
    {
      "cell_type": "code",
      "source": [
        "d2"
      ],
      "metadata": {
        "colab": {
          "base_uri": "https://localhost:8080/"
        },
        "id": "pfdKelvB7N6U",
        "outputId": "08a15723-d714-4cef-e99a-820cefc34437"
      },
      "execution_count": null,
      "outputs": [
        {
          "output_type": "execute_result",
          "data": {
            "text/plain": [
              "array([[0, 1, 2],\n",
              "       [3, 4, 5],\n",
              "       [6, 7, 8]])"
            ]
          },
          "metadata": {},
          "execution_count": 154
        }
      ]
    },
    {
      "cell_type": "code",
      "source": [
        "d2 + d2"
      ],
      "metadata": {
        "colab": {
          "base_uri": "https://localhost:8080/"
        },
        "id": "0lknlf7R64dJ",
        "outputId": "50da4612-5a39-4fc2-e3d7-d072d4cf07be"
      },
      "execution_count": null,
      "outputs": [
        {
          "output_type": "execute_result",
          "data": {
            "text/plain": [
              "array([[ 0,  2,  4],\n",
              "       [ 6,  8, 10],\n",
              "       [12, 14, 16]])"
            ]
          },
          "metadata": {},
          "execution_count": 155
        }
      ]
    },
    {
      "cell_type": "code",
      "source": [
        "d2 + 1"
      ],
      "metadata": {
        "colab": {
          "base_uri": "https://localhost:8080/"
        },
        "id": "WcjwgaPAKoxL",
        "outputId": "18f7fce0-fa85-4134-bdfe-4d320d66eb33"
      },
      "execution_count": null,
      "outputs": [
        {
          "output_type": "execute_result",
          "data": {
            "text/plain": [
              "array([[1, 2, 3],\n",
              "       [4, 5, 6],\n",
              "       [7, 8, 9]])"
            ]
          },
          "metadata": {},
          "execution_count": 156
        }
      ]
    },
    {
      "cell_type": "code",
      "source": [
        "# soma de tensor"
      ],
      "metadata": {
        "id": "W8qpc4wM7hoS"
      },
      "execution_count": null,
      "outputs": []
    },
    {
      "cell_type": "code",
      "source": [
        "d3"
      ],
      "metadata": {
        "colab": {
          "base_uri": "https://localhost:8080/"
        },
        "id": "c-S9n15C7Uy-",
        "outputId": "c018e3c4-c611-4077-b22f-c900fbb7c4b3"
      },
      "execution_count": null,
      "outputs": [
        {
          "output_type": "execute_result",
          "data": {
            "text/plain": [
              "array([[[0, 1, 2],\n",
              "        [3, 4, 5],\n",
              "        [6, 7, 8]],\n",
              "\n",
              "       [[0, 1, 2],\n",
              "        [3, 4, 5],\n",
              "        [6, 7, 8]]])"
            ]
          },
          "metadata": {},
          "execution_count": 157
        }
      ]
    },
    {
      "cell_type": "code",
      "source": [
        "d3 + d3"
      ],
      "metadata": {
        "colab": {
          "base_uri": "https://localhost:8080/"
        },
        "id": "6Iiajilu64aJ",
        "outputId": "c114210c-6ac5-40e7-ca88-25302557e47d"
      },
      "execution_count": null,
      "outputs": [
        {
          "output_type": "execute_result",
          "data": {
            "text/plain": [
              "array([[[ 0,  2,  4],\n",
              "        [ 6,  8, 10],\n",
              "        [12, 14, 16]],\n",
              "\n",
              "       [[ 0,  2,  4],\n",
              "        [ 6,  8, 10],\n",
              "        [12, 14, 16]]])"
            ]
          },
          "metadata": {},
          "execution_count": 158
        }
      ]
    },
    {
      "cell_type": "code",
      "source": [
        "d3 + 1"
      ],
      "metadata": {
        "colab": {
          "base_uri": "https://localhost:8080/"
        },
        "id": "irO62XoBKzS9",
        "outputId": "9c1a96b1-827f-40c0-bdf5-6e4c7f07feae"
      },
      "execution_count": null,
      "outputs": [
        {
          "output_type": "execute_result",
          "data": {
            "text/plain": [
              "array([[[1, 2, 3],\n",
              "        [4, 5, 6],\n",
              "        [7, 8, 9]],\n",
              "\n",
              "       [[1, 2, 3],\n",
              "        [4, 5, 6],\n",
              "        [7, 8, 9]]])"
            ]
          },
          "metadata": {},
          "execution_count": 159
        }
      ]
    },
    {
      "cell_type": "markdown",
      "source": [
        "### Funções NumPy"
      ],
      "metadata": {
        "id": "46et64GI9Iq5"
      }
    },
    {
      "cell_type": "code",
      "source": [
        "# Produto escalar de duas matrizes (escalar)\n",
        "np.dot(d0,d0)"
      ],
      "metadata": {
        "colab": {
          "base_uri": "https://localhost:8080/"
        },
        "id": "gDaltqlB-p4O",
        "outputId": "213e1ed8-6f71-44a4-bfd6-1abce7de971e"
      },
      "execution_count": null,
      "outputs": [
        {
          "output_type": "execute_result",
          "data": {
            "text/plain": [
              "100"
            ]
          },
          "metadata": {},
          "execution_count": 160
        }
      ]
    },
    {
      "cell_type": "code",
      "source": [
        "d0*d0"
      ],
      "metadata": {
        "colab": {
          "base_uri": "https://localhost:8080/"
        },
        "id": "tGUdAg4M--dG",
        "outputId": "da2b9b4b-e1fd-4807-811b-8de823df3792"
      },
      "execution_count": null,
      "outputs": [
        {
          "output_type": "execute_result",
          "data": {
            "text/plain": [
              "100"
            ]
          },
          "metadata": {},
          "execution_count": 161
        }
      ]
    },
    {
      "cell_type": "code",
      "source": [
        "# Produto escalar de duas matrizes (vetor)\n",
        "np.dot(d1,d1)"
      ],
      "metadata": {
        "colab": {
          "base_uri": "https://localhost:8080/"
        },
        "id": "sLJqyvdf_Hc-",
        "outputId": "533e7b6b-bcb5-4ed6-9a26-19498d4d7f02"
      },
      "execution_count": null,
      "outputs": [
        {
          "output_type": "execute_result",
          "data": {
            "text/plain": [
              "5500"
            ]
          },
          "metadata": {},
          "execution_count": 162
        }
      ]
    },
    {
      "cell_type": "code",
      "source": [
        "d1*d1"
      ],
      "metadata": {
        "colab": {
          "base_uri": "https://localhost:8080/"
        },
        "id": "DrtdzMzI_RTs",
        "outputId": "83c944e7-b6d0-4dd7-e657-ea913efc9df4"
      },
      "execution_count": null,
      "outputs": [
        {
          "output_type": "execute_result",
          "data": {
            "text/plain": [
              "array([ 100,  400,  900, 1600, 2500])"
            ]
          },
          "metadata": {},
          "execution_count": 163
        }
      ]
    },
    {
      "cell_type": "code",
      "source": [
        "# Produto escalar de duas matrizes (vetor)\n",
        "np.dot(d2,d2)"
      ],
      "metadata": {
        "colab": {
          "base_uri": "https://localhost:8080/"
        },
        "id": "Wr1cyIWK64Wz",
        "outputId": "ff239d58-4236-4507-959e-d19ba46c13a9"
      },
      "execution_count": null,
      "outputs": [
        {
          "output_type": "execute_result",
          "data": {
            "text/plain": [
              "array([[ 15,  18,  21],\n",
              "       [ 42,  54,  66],\n",
              "       [ 69,  90, 111]])"
            ]
          },
          "metadata": {},
          "execution_count": 164
        }
      ]
    },
    {
      "cell_type": "code",
      "source": [
        "d2*d2"
      ],
      "metadata": {
        "colab": {
          "base_uri": "https://localhost:8080/"
        },
        "id": "Lgf1XLfX_cSL",
        "outputId": "20a870c9-6af4-42ab-fae0-4795112dc640"
      },
      "execution_count": null,
      "outputs": [
        {
          "output_type": "execute_result",
          "data": {
            "text/plain": [
              "array([[ 0,  1,  4],\n",
              "       [ 9, 16, 25],\n",
              "       [36, 49, 64]])"
            ]
          },
          "metadata": {},
          "execution_count": 165
        }
      ]
    },
    {
      "cell_type": "code",
      "source": [
        "d2"
      ],
      "metadata": {
        "colab": {
          "base_uri": "https://localhost:8080/"
        },
        "id": "haUar_ucCpia",
        "outputId": "cbb77d6c-2e0a-4d45-80a3-05806369f1de"
      },
      "execution_count": null,
      "outputs": [
        {
          "output_type": "execute_result",
          "data": {
            "text/plain": [
              "array([[0, 1, 2],\n",
              "       [3, 4, 5],\n",
              "       [6, 7, 8]])"
            ]
          },
          "metadata": {},
          "execution_count": 166
        }
      ]
    },
    {
      "cell_type": "code",
      "source": [
        "np.array([[0*0+1*3+2*6, 0*1+1*4+2*7, 0*2+1*5+2*8],\n",
        "          [3*0+4*3+5*6, 3*1+4*4+5*7, 3*2+4*5+5*8],\n",
        "          [6*0+7*3+8*6, 6*1+7*4+8*7, 6*2+7*5+8*8]])"
      ],
      "metadata": {
        "colab": {
          "base_uri": "https://localhost:8080/"
        },
        "id": "pW4YuO4x64UC",
        "outputId": "64e0f128-5f6c-40a8-d5a1-1bd191835739"
      },
      "execution_count": null,
      "outputs": [
        {
          "output_type": "execute_result",
          "data": {
            "text/plain": [
              "array([[ 15,  18,  21],\n",
              "       [ 42,  54,  66],\n",
              "       [ 69,  90, 111]])"
            ]
          },
          "metadata": {},
          "execution_count": 169
        }
      ]
    },
    {
      "cell_type": "code",
      "source": [
        "# alterando valores específicos da matriz\n",
        "matriz = np.array([[0,0,2,4],\n",
        "                   [3,4,0,0]])\n",
        "matriz"
      ],
      "metadata": {
        "colab": {
          "base_uri": "https://localhost:8080/"
        },
        "id": "7pYr2X4y0Zyo",
        "outputId": "350070e8-3bd9-4c7d-a115-3ae9a24985fc"
      },
      "execution_count": null,
      "outputs": [
        {
          "output_type": "execute_result",
          "data": {
            "text/plain": [
              "array([[0, 0, 2, 4],\n",
              "       [3, 4, 0, 0]])"
            ]
          },
          "metadata": {},
          "execution_count": 170
        }
      ]
    },
    {
      "cell_type": "code",
      "source": [
        "#np.where(condição, verdade, falsa)\n",
        "np.where(matriz < 2, matriz, matriz*2)"
      ],
      "metadata": {
        "colab": {
          "base_uri": "https://localhost:8080/"
        },
        "id": "JFpJNw4K1DvR",
        "outputId": "d869d6b1-02d9-42cc-9c17-432a0392e819"
      },
      "execution_count": null,
      "outputs": [
        {
          "output_type": "execute_result",
          "data": {
            "text/plain": [
              "array([[0, 0, 4, 8],\n",
              "       [6, 8, 0, 0]])"
            ]
          },
          "metadata": {},
          "execution_count": 171
        }
      ]
    },
    {
      "cell_type": "code",
      "source": [
        "np.where(matriz < 2, 1, matriz)"
      ],
      "metadata": {
        "colab": {
          "base_uri": "https://localhost:8080/"
        },
        "id": "m8RV21AR2JLa",
        "outputId": "5ae84fa7-6b1c-471d-f824-2d8f76576605"
      },
      "execution_count": null,
      "outputs": [
        {
          "output_type": "execute_result",
          "data": {
            "text/plain": [
              "array([[1, 1, 2, 4],\n",
              "       [3, 4, 1, 1]])"
            ]
          },
          "metadata": {},
          "execution_count": 172
        }
      ]
    },
    {
      "cell_type": "code",
      "source": [
        "np.where(matriz == 2, 10, matriz)"
      ],
      "metadata": {
        "colab": {
          "base_uri": "https://localhost:8080/"
        },
        "id": "qD8lFeYUORyY",
        "outputId": "778da5ed-8f0d-4a3a-e035-1c358f661bc7"
      },
      "execution_count": null,
      "outputs": [
        {
          "output_type": "execute_result",
          "data": {
            "text/plain": [
              "array([[ 0,  0, 10,  4],\n",
              "       [ 3,  4,  0,  0]])"
            ]
          },
          "metadata": {},
          "execution_count": 173
        }
      ]
    },
    {
      "cell_type": "code",
      "source": [
        "print(matriz)"
      ],
      "metadata": {
        "colab": {
          "base_uri": "https://localhost:8080/"
        },
        "id": "SEc6t2GtOct4",
        "outputId": "d2eb2c4e-e055-4e8b-f6c8-37470b2a0b2c"
      },
      "execution_count": null,
      "outputs": [
        {
          "output_type": "stream",
          "name": "stdout",
          "text": [
            "[[0 0 2 4]\n",
            " [3 4 0 0]]\n"
          ]
        }
      ]
    },
    {
      "cell_type": "code",
      "source": [
        "# alterando o shape do array\n",
        "arr1 = np.array([[1,2,3,4],[5,6,7,8]])\n",
        "arr1"
      ],
      "metadata": {
        "colab": {
          "base_uri": "https://localhost:8080/"
        },
        "id": "pdzkwbESV8X9",
        "outputId": "e4375cd8-1bbc-48ee-98ce-f85aa27c95a7"
      },
      "execution_count": null,
      "outputs": [
        {
          "output_type": "execute_result",
          "data": {
            "text/plain": [
              "array([[1, 2, 3, 4],\n",
              "       [5, 6, 7, 8]])"
            ]
          },
          "metadata": {},
          "execution_count": 178
        }
      ]
    },
    {
      "cell_type": "code",
      "source": [
        "arr1.shape"
      ],
      "metadata": {
        "colab": {
          "base_uri": "https://localhost:8080/"
        },
        "id": "-kLkwV6dV8Tv",
        "outputId": "3fa8414b-f567-494b-e35d-d1d5ac77a0a3"
      },
      "execution_count": null,
      "outputs": [
        {
          "output_type": "execute_result",
          "data": {
            "text/plain": [
              "(2, 4)"
            ]
          },
          "metadata": {},
          "execution_count": 180
        }
      ]
    },
    {
      "cell_type": "code",
      "source": [
        "arr2 = arr1.reshape((1,8))\n",
        "arr2"
      ],
      "metadata": {
        "colab": {
          "base_uri": "https://localhost:8080/"
        },
        "id": "F-mUOi3cWL-0",
        "outputId": "f34c43e9-8ba6-4a48-d0bc-6dae18cf9e91"
      },
      "execution_count": null,
      "outputs": [
        {
          "output_type": "execute_result",
          "data": {
            "text/plain": [
              "array([[1, 2, 3, 4, 5, 6, 7, 8]])"
            ]
          },
          "metadata": {},
          "execution_count": 181
        }
      ]
    },
    {
      "cell_type": "code",
      "source": [
        "arr2.shape"
      ],
      "metadata": {
        "colab": {
          "base_uri": "https://localhost:8080/"
        },
        "id": "FfPUEcqNWLO7",
        "outputId": "4327d356-3a8b-4374-c8ca-c47d2d616c16"
      },
      "execution_count": null,
      "outputs": [
        {
          "output_type": "execute_result",
          "data": {
            "text/plain": [
              "(1, 8)"
            ]
          },
          "metadata": {},
          "execution_count": 182
        }
      ]
    },
    {
      "cell_type": "code",
      "source": [
        "arr3 = arr1.reshape((4,2))\n",
        "arr3"
      ],
      "metadata": {
        "colab": {
          "base_uri": "https://localhost:8080/"
        },
        "id": "c9kjr4jAWLLc",
        "outputId": "d9e75b21-900f-480c-c31d-a8fdbfdf603e"
      },
      "execution_count": null,
      "outputs": [
        {
          "output_type": "execute_result",
          "data": {
            "text/plain": [
              "array([[1, 2],\n",
              "       [3, 4],\n",
              "       [5, 6],\n",
              "       [7, 8]])"
            ]
          },
          "metadata": {},
          "execution_count": 184
        }
      ]
    },
    {
      "cell_type": "code",
      "source": [
        "arr3.shape"
      ],
      "metadata": {
        "colab": {
          "base_uri": "https://localhost:8080/"
        },
        "id": "jBBQjfuRWecw",
        "outputId": "aa5e220e-51b2-4330-d7ac-f633bf16c423"
      },
      "execution_count": null,
      "outputs": [
        {
          "output_type": "execute_result",
          "data": {
            "text/plain": [
              "(4, 2)"
            ]
          },
          "metadata": {},
          "execution_count": 185
        }
      ]
    },
    {
      "cell_type": "markdown",
      "source": [
        "### Exemplo prático da análise de dados com NumPy!!!"
      ],
      "metadata": {
        "id": "XZtC_jWLEHaL"
      }
    },
    {
      "cell_type": "code",
      "source": [
        "#!pip install skimage"
      ],
      "metadata": {
        "id": "euL6S-qbYkla"
      },
      "execution_count": null,
      "outputs": []
    },
    {
      "cell_type": "code",
      "source": [
        "# carregar uma imagem com a biblioteca skimage\n",
        "from skimage import io\n",
        "\n",
        "img = io.imread('https://upload.wikimedia.org/wikipedia/commons/thumb/1/1f/Python_logo_01.svg/600px-Python_logo_01.svg.png')\n",
        "io.imshow(img)\n",
        "io.show()"
      ],
      "metadata": {
        "colab": {
          "base_uri": "https://localhost:8080/",
          "height": 297
        },
        "id": "uW7-XG6yCUqm",
        "outputId": "f3431f0e-3141-4c0d-d90e-fe1572eedcdc"
      },
      "execution_count": null,
      "outputs": [
        {
          "output_type": "display_data",
          "data": {
            "text/plain": [
              "<Figure size 432x288 with 1 Axes>"
            ],
            "image/png": "[encoded data removed]"
          },
          "metadata": {
            "needs_background": "light"
          }
        }
      ]
    },
    {
      "cell_type": "code",
      "source": [
        "# tipo da variável\n",
        "type(img)"
      ],
      "metadata": {
        "colab": {
          "base_uri": "https://localhost:8080/"
        },
        "id": "_1h7utqDF9zW",
        "outputId": "39cd0155-5636-4cd2-cd03-3038df5d28b6"
      },
      "execution_count": null,
      "outputs": [
        {
          "output_type": "execute_result",
          "data": {
            "text/plain": [
              "numpy.ndarray"
            ]
          },
          "metadata": {},
          "execution_count": 187
        }
      ]
    },
    {
      "cell_type": "code",
      "source": [
        "# variável da imagem\n",
        "img"
      ],
      "metadata": {
        "colab": {
          "base_uri": "https://localhost:8080/"
        },
        "id": "QY0uVUHiGDX0",
        "outputId": "45db388d-67ff-4a6e-e970-4b89a7030f96"
      },
      "execution_count": null,
      "outputs": [
        {
          "output_type": "execute_result",
          "data": {
            "text/plain": [
              "array([[[0, 0, 0, 0],\n",
              "        [0, 0, 0, 0],\n",
              "        [0, 0, 0, 0],\n",
              "        ...,\n",
              "        [0, 0, 0, 0],\n",
              "        [0, 0, 0, 0],\n",
              "        [0, 0, 0, 0]],\n",
              "\n",
              "       [[0, 0, 0, 0],\n",
              "        [0, 0, 0, 0],\n",
              "        [0, 0, 0, 0],\n",
              "        ...,\n",
              "        [0, 0, 0, 0],\n",
              "        [0, 0, 0, 0],\n",
              "        [0, 0, 0, 0]],\n",
              "\n",
              "       [[0, 0, 0, 0],\n",
              "        [0, 0, 0, 0],\n",
              "        [0, 0, 0, 0],\n",
              "        ...,\n",
              "        [0, 0, 0, 0],\n",
              "        [0, 0, 0, 0],\n",
              "        [0, 0, 0, 0]],\n",
              "\n",
              "       ...,\n",
              "\n",
              "       [[0, 0, 0, 0],\n",
              "        [0, 0, 0, 0],\n",
              "        [0, 0, 0, 0],\n",
              "        ...,\n",
              "        [0, 0, 0, 0],\n",
              "        [0, 0, 0, 0],\n",
              "        [0, 0, 0, 0]],\n",
              "\n",
              "       [[0, 0, 0, 0],\n",
              "        [0, 0, 0, 0],\n",
              "        [0, 0, 0, 0],\n",
              "        ...,\n",
              "        [0, 0, 0, 0],\n",
              "        [0, 0, 0, 0],\n",
              "        [0, 0, 0, 0]],\n",
              "\n",
              "       [[0, 0, 0, 0],\n",
              "        [0, 0, 0, 0],\n",
              "        [0, 0, 0, 0],\n",
              "        ...,\n",
              "        [0, 0, 0, 0],\n",
              "        [0, 0, 0, 0],\n",
              "        [0, 0, 0, 0]]], dtype=uint8)"
            ]
          },
          "metadata": {},
          "execution_count": 188
        }
      ]
    },
    {
      "cell_type": "code",
      "source": [
        "# dimensões da imagem\n",
        "verifica_array(img)"
      ],
      "metadata": {
        "colab": {
          "base_uri": "https://localhost:8080/"
        },
        "id": "GeR5aYLyGE6n",
        "outputId": "3ca68e5e-4fac-4ed3-da6a-d8080a5f0c5c"
      },
      "execution_count": null,
      "outputs": [
        {
          "output_type": "stream",
          "name": "stdout",
          "text": [
            "[[[0 0 0 0]\n",
            "  [0 0 0 0]\n",
            "  [0 0 0 0]\n",
            "  ...\n",
            "  [0 0 0 0]\n",
            "  [0 0 0 0]\n",
            "  [0 0 0 0]]\n",
            "\n",
            " [[0 0 0 0]\n",
            "  [0 0 0 0]\n",
            "  [0 0 0 0]\n",
            "  ...\n",
            "  [0 0 0 0]\n",
            "  [0 0 0 0]\n",
            "  [0 0 0 0]]\n",
            "\n",
            " [[0 0 0 0]\n",
            "  [0 0 0 0]\n",
            "  [0 0 0 0]\n",
            "  ...\n",
            "  [0 0 0 0]\n",
            "  [0 0 0 0]\n",
            "  [0 0 0 0]]\n",
            "\n",
            " ...\n",
            "\n",
            " [[0 0 0 0]\n",
            "  [0 0 0 0]\n",
            "  [0 0 0 0]\n",
            "  ...\n",
            "  [0 0 0 0]\n",
            "  [0 0 0 0]\n",
            "  [0 0 0 0]]\n",
            "\n",
            " [[0 0 0 0]\n",
            "  [0 0 0 0]\n",
            "  [0 0 0 0]\n",
            "  ...\n",
            "  [0 0 0 0]\n",
            "  [0 0 0 0]\n",
            "  [0 0 0 0]]\n",
            "\n",
            " [[0 0 0 0]\n",
            "  [0 0 0 0]\n",
            "  [0 0 0 0]\n",
            "  ...\n",
            "  [0 0 0 0]\n",
            "  [0 0 0 0]\n",
            "  [0 0 0 0]]] - tipo <class 'numpy.ndarray'>, dimensão 3, tamanho 1440000 e shape (600, 600, 4)\n"
          ]
        }
      ]
    },
    {
      "cell_type": "code",
      "source": [
        "# Alterando a imagem com subtração de cores\n",
        "img2 = img.copy() - 100\n",
        "io.imshow(img2)\n",
        "io.show()"
      ],
      "metadata": {
        "colab": {
          "base_uri": "https://localhost:8080/",
          "height": 297
        },
        "id": "g4FFr5_IGxGh",
        "outputId": "32e34ac3-f03f-4ed2-fca5-7bfb003062b5"
      },
      "execution_count": null,
      "outputs": [
        {
          "output_type": "display_data",
          "data": {
            "text/plain": [
              "<Figure size 432x288 with 1 Axes>"
            ],
            "image/png": "[encoded data removed]"
          },
          "metadata": {
            "needs_background": "light"
          }
        }
      ]
    },
    {
      "cell_type": "code",
      "source": [
        "# Alterando a imagem com multiplicação de cores\n",
        "img3 = img.copy() * 100\n",
        "io.imshow(img3)\n",
        "io.show()"
      ],
      "metadata": {
        "colab": {
          "base_uri": "https://localhost:8080/",
          "height": 297
        },
        "id": "0hQ-UucbG-JX",
        "outputId": "a40d9fbe-e4d4-40bf-8511-96702fe30818"
      },
      "execution_count": null,
      "outputs": [
        {
          "output_type": "display_data",
          "data": {
            "text/plain": [
              "<Figure size 432x288 with 1 Axes>"
            ],
            "image/png": "[encoded data removed]"
          },
          "metadata": {
            "needs_background": "light"
          }
        }
      ]
    },
    {
      "cell_type": "code",
      "source": [
        "# recortando um pedaço da imagem\n",
        "img4 = img[200:500,200:500]\n",
        "io.imshow(img4)\n",
        "io.show()"
      ],
      "metadata": {
        "colab": {
          "base_uri": "https://localhost:8080/",
          "height": 297
        },
        "id": "2K0eWlQkLjUL",
        "outputId": "2d7e9c1c-7428-4f0e-f563-b641c9d1796e"
      },
      "execution_count": null,
      "outputs": [
        {
          "output_type": "display_data",
          "data": {
            "text/plain": [
              "<Figure size 432x288 with 1 Axes>"
            ],
            "image/png": "[encoded data removed]"
          },
          "metadata": {
            "needs_background": "light"
          }
        }
      ]
    },
    {
      "cell_type": "code",
      "source": [
        "# carregando uma imagem local\n",
        "dois = io.imread('dois.png')\n",
        "io.imshow(dois)\n",
        "io.show()"
      ],
      "metadata": {
        "id": "nuW0zNywOV_I",
        "colab": {
          "base_uri": "https://localhost:8080/",
          "height": 297
        },
        "outputId": "c0c3c44d-d689-47dc-d0de-411f698d4ebe"
      },
      "execution_count": null,
      "outputs": [
        {
          "output_type": "display_data",
          "data": {
            "text/plain": [
              "<Figure size 432x288 with 1 Axes>"
            ],
            "image/png": "[encoded data removed]"
          },
          "metadata": {
            "needs_background": "light"
          }
        }
      ]
    },
    {
      "cell_type": "code",
      "source": [
        "# dimensões da imagem\n",
        "verifica_array(dois)"
      ],
      "metadata": {
        "id": "mLwyV5qaOV7R",
        "colab": {
          "base_uri": "https://localhost:8080/"
        },
        "outputId": "0433d4f8-3d8b-4b2f-a427-105ee58d4195"
      },
      "execution_count": null,
      "outputs": [
        {
          "output_type": "stream",
          "name": "stdout",
          "text": [
            "[[  0   0   0   0   0   0   0   0   0   0]\n",
            " [  0   0   0   5 120 196 172  45   0   0]\n",
            " [  0   0   0  38 202 118 164 146   0   0]\n",
            " [  0   0   0   0   0   0 185 101   0   0]\n",
            " [  0   0   0   0   0 107 201  28   0   0]\n",
            " [  0   0   0   0  94 210  93   0   0   0]\n",
            " [  0   0  57 150 239 208 115   4   0   0]\n",
            " [  0 150 237 193  95 109 174 183  31   0]\n",
            " [  0 157 102   0   0   0   0  17   0   0]\n",
            " [  0   0   0   0   0   0   0   0   0   0]] - tipo <class 'numpy.ndarray'>, dimensão 2, tamanho 100 e shape (10, 10)\n"
          ]
        }
      ]
    },
    {
      "cell_type": "code",
      "source": [
        "# deixando a imagem em preto e branco\n",
        "dois_trat = np.where(dois>0, 255, dois )\n",
        "dois_trat"
      ],
      "metadata": {
        "id": "_Slyn0dmOV4J",
        "colab": {
          "base_uri": "https://localhost:8080/"
        },
        "outputId": "d8cb1da5-6353-4022-b20c-768beb5cbbf7"
      },
      "execution_count": null,
      "outputs": [
        {
          "output_type": "execute_result",
          "data": {
            "text/plain": [
              "array([[  0,   0,   0,   0,   0,   0,   0,   0,   0,   0],\n",
              "       [  0,   0,   0, 255, 255, 255, 255, 255,   0,   0],\n",
              "       [  0,   0,   0, 255, 255, 255, 255, 255,   0,   0],\n",
              "       [  0,   0,   0,   0,   0,   0, 255, 255,   0,   0],\n",
              "       [  0,   0,   0,   0,   0, 255, 255, 255,   0,   0],\n",
              "       [  0,   0,   0,   0, 255, 255, 255,   0,   0,   0],\n",
              "       [  0,   0, 255, 255, 255, 255, 255, 255,   0,   0],\n",
              "       [  0, 255, 255, 255, 255, 255, 255, 255, 255,   0],\n",
              "       [  0, 255, 255,   0,   0,   0,   0, 255,   0,   0],\n",
              "       [  0,   0,   0,   0,   0,   0,   0,   0,   0,   0]], dtype=uint8)"
            ]
          },
          "metadata": {},
          "execution_count": 200
        }
      ]
    },
    {
      "cell_type": "code",
      "source": [
        "# imprimindo novamente a imagem\n",
        "io.imshow(dois_trat)\n",
        "io.show()"
      ],
      "metadata": {
        "id": "KOEnxlluOV1U",
        "colab": {
          "base_uri": "https://localhost:8080/",
          "height": 297
        },
        "outputId": "99ef51c9-ae34-4728-d68f-be06666e6fbe"
      },
      "execution_count": null,
      "outputs": [
        {
          "output_type": "display_data",
          "data": {
            "text/plain": [
              "<Figure size 432x288 with 1 Axes>"
            ],
            "image/png": "[encoded data removed]"
          },
          "metadata": {
            "needs_background": "light"
          }
        }
      ]
    },
    {
      "cell_type": "code",
      "source": [
        "dois_trat2 = np.where(dois>0, 120, dois )\n",
        "dois_trat2"
      ],
      "metadata": {
        "colab": {
          "base_uri": "https://localhost:8080/"
        },
        "id": "pk7oqxQDYM6j",
        "outputId": "a9ffbb2c-9949-4d24-8284-6d980dcd6c30"
      },
      "execution_count": null,
      "outputs": [
        {
          "output_type": "execute_result",
          "data": {
            "text/plain": [
              "array([[  0,   0,   0,   0,   0,   0,   0,   0,   0,   0],\n",
              "       [  0,   0,   0, 120, 120, 120, 120, 120,   0,   0],\n",
              "       [  0,   0,   0, 120, 120, 120, 120, 120,   0,   0],\n",
              "       [  0,   0,   0,   0,   0,   0, 120, 120,   0,   0],\n",
              "       [  0,   0,   0,   0,   0, 120, 120, 120,   0,   0],\n",
              "       [  0,   0,   0,   0, 120, 120, 120,   0,   0,   0],\n",
              "       [  0,   0, 120, 120, 120, 120, 120, 120,   0,   0],\n",
              "       [  0, 120, 120, 120, 120, 120, 120, 120, 120,   0],\n",
              "       [  0, 120, 120,   0,   0,   0,   0, 120,   0,   0],\n",
              "       [  0,   0,   0,   0,   0,   0,   0,   0,   0,   0]], dtype=uint8)"
            ]
          },
          "metadata": {},
          "execution_count": 202
        }
      ]
    },
    {
      "cell_type": "code",
      "source": [
        "io.imshow(dois_trat2)\n",
        "io.show()"
      ],
      "metadata": {
        "colab": {
          "base_uri": "https://localhost:8080/",
          "height": 297
        },
        "id": "bMM6TISAYP0s",
        "outputId": "54a8eb5e-694c-4a2a-e325-133c9a3a1501"
      },
      "execution_count": null,
      "outputs": [
        {
          "output_type": "display_data",
          "data": {
            "text/plain": [
              "<Figure size 432x288 with 1 Axes>"
            ],
            "image/png": "[encoded data removed]"
          },
          "metadata": {
            "needs_background": "light"
          }
        }
      ]
    },
    {
      "cell_type": "code",
      "source": [
        "#comparando imagens\n",
        "img_dif = img - img2"
      ],
      "metadata": {
        "id": "c3CztmrCY8ru"
      },
      "execution_count": null,
      "outputs": []
    },
    {
      "cell_type": "code",
      "source": [
        "img_dif.sum()"
      ],
      "metadata": {
        "colab": {
          "base_uri": "https://localhost:8080/"
        },
        "id": "mXvxEkJLZCvh",
        "outputId": "863f2555-d4d0-4597-e83b-d0e0cfd32095"
      },
      "execution_count": null,
      "outputs": [
        {
          "output_type": "execute_result",
          "data": {
            "text/plain": [
              "144000000"
            ]
          },
          "metadata": {},
          "execution_count": 210
        }
      ]
    },
    {
      "cell_type": "markdown",
      "source": [
        "## Atividade"
      ],
      "metadata": {
        "id": "J7uEDrVh2lv_"
      }
    },
    {
      "cell_type": "markdown",
      "source": [
        "**Questão 1 -** Criar variáveis ndarray do NumPy, preenchidas com zero nas seguintes especificações:\n",
        "\n",
        "*   v0 com dimensão 0\n",
        "*   v1 com dimensão 1 e tamanho 10\n",
        "*   v2 com dimensão 2 e tamanho 5x5\n",
        "*   v3 com dimensão 3 e tamanho 2x2x2\n",
        "\n"
      ],
      "metadata": {
        "id": "Kl_0p_kroI5x"
      }
    },
    {
      "cell_type": "code",
      "source": [
        "import numpy as np\n",
        "\n",
        "v0 = np.array([0])\n",
        "v1 = np.zeros([1,10],int)\n",
        "v2 = np.zeros([5,5],int)\n",
        "v3 = np.zeros([2,2,2],int)\n",
        "print(v0)\n",
        "print(v1)\n",
        "print(v2)\n",
        "print(v3)"
      ],
      "metadata": {
        "id": "XUWXUeVM2ntH",
        "outputId": "5bbed77c-068a-42ab-9956-dc45b336e416",
        "colab": {
          "base_uri": "https://localhost:8080/"
        }
      },
      "execution_count": null,
      "outputs": [
        {
          "output_type": "stream",
          "name": "stdout",
          "text": [
            "[0]\n",
            "[[0 0 0 0 0 0 0 0 0 0]]\n",
            "[[0 0 0 0 0]\n",
            " [0 0 0 0 0]\n",
            " [0 0 0 0 0]\n",
            " [0 0 0 0 0]\n",
            " [0 0 0 0 0]]\n",
            "[[[0 0]\n",
            "  [0 0]]\n",
            "\n",
            " [[0 0]\n",
            "  [0 0]]]\n"
          ]
        }
      ]
    },
    {
      "cell_type": "code",
      "source": [],
      "metadata": {
        "id": "ZYv4jIO9eIGr",
        "outputId": "a8fc8882-a4f9-4fd4-a5df-cc1dae5e2773",
        "colab": {
          "base_uri": "https://localhost:8080/"
        }
      },
      "execution_count": null,
      "outputs": [
        {
          "output_type": "execute_result",
          "data": {
            "text/plain": [
              "array([[0, 0, 0, 0, 0, 0, 0, 0, 0, 0]])"
            ]
          },
          "metadata": {},
          "execution_count": 4
        }
      ]
    },
    {
      "cell_type": "code",
      "source": [],
      "metadata": {
        "id": "QwBMln1rec9r",
        "outputId": "9a6df2a2-a609-4b67-cf24-87a292de49e3",
        "colab": {
          "base_uri": "https://localhost:8080/"
        }
      },
      "execution_count": null,
      "outputs": [
        {
          "output_type": "execute_result",
          "data": {
            "text/plain": [
              "array([[0, 0, 0, 0, 0],\n",
              "       [0, 0, 0, 0, 0],\n",
              "       [0, 0, 0, 0, 0],\n",
              "       [0, 0, 0, 0, 0],\n",
              "       [0, 0, 0, 0, 0]])"
            ]
          },
          "metadata": {},
          "execution_count": 6
        }
      ]
    },
    {
      "cell_type": "code",
      "source": [
        "\n"
      ],
      "metadata": {
        "id": "vzlfLB2SgRso",
        "outputId": "02734407-dfe0-4760-e5e0-d8dbf932a4c7",
        "colab": {
          "base_uri": "https://localhost:8080/"
        }
      },
      "execution_count": null,
      "outputs": [
        {
          "output_type": "execute_result",
          "data": {
            "text/plain": [
              "array([[[0, 0],\n",
              "        [0, 0]],\n",
              "\n",
              "       [[0, 0],\n",
              "        [0, 0]]])"
            ]
          },
          "metadata": {},
          "execution_count": 8
        }
      ]
    },
    {
      "cell_type": "markdown",
      "source": [
        "**Questão 2 -** Criar matriz 10x10 com valores inteiros, aleatórios entra 0 e 255 especificando o tipo como uint8."
      ],
      "metadata": {
        "id": "nWB89HNZoM9N"
      }
    },
    {
      "cell_type": "code",
      "source": [
        "m10 = np.random.randint(0,255,size=(10,10),dtype='uint8')\n",
        "m10"
      ],
      "metadata": {
        "id": "qzpC06fJ2n6J",
        "outputId": "6aaf4145-bb9a-4841-bff0-7439ed9ff9df",
        "colab": {
          "base_uri": "https://localhost:8080/"
        }
      },
      "execution_count": null,
      "outputs": [
        {
          "output_type": "execute_result",
          "data": {
            "text/plain": [
              "array([[119,  40, 184, 192,  77, 202, 140, 185,  55, 106],\n",
              "       [ 78, 201, 234,  74, 239, 148, 153, 204, 230, 213],\n",
              "       [211,  45,   0,  71, 134,  77, 181,  11, 110,  55],\n",
              "       [195,  55,   5, 139, 253, 181, 119, 217,  19, 205],\n",
              "       [ 15,  48, 148,  86, 220, 189,  74,  48, 115, 123],\n",
              "       [213, 220,  36,  41,  58, 114,  23, 182,  25, 152],\n",
              "       [110, 159, 182, 148, 161, 178,  86,  30, 153, 185],\n",
              "       [214, 188, 214,  97,  68, 111, 129, 147, 190, 132],\n",
              "       [213, 215, 134,   4, 227,  55,  95,  56, 178, 138],\n",
              "       [115, 221,  61, 179, 175, 122, 222, 188,  16, 192]], dtype=uint8)"
            ]
          },
          "metadata": {},
          "execution_count": 9
        }
      ]
    },
    {
      "cell_type": "markdown",
      "source": [
        "**Questão 3 -** Crie uma matriz com os vetores a = [-1,10,7], b = [6, 4, 8] e c = [-2, -4, 9], em seguinda altere os valores menores que 0 para o escalar 0."
      ],
      "metadata": {
        "id": "7G4uVkbOmf2g"
      }
    },
    {
      "cell_type": "code",
      "source": [
        "a = [-1,10,7]\n",
        "b = [6,4,8]\n",
        "c= [-2,-4,9]\n",
        "\n",
        "matriz = np.array(a+b+c)\n",
        "matriz2 = matriz.reshape((3,3))\n",
        "matriz2"
      ],
      "metadata": {
        "id": "jAOzcvCwmfPX",
        "outputId": "c55918c4-6dc8-451f-89d8-6b00cce2306d",
        "colab": {
          "base_uri": "https://localhost:8080/"
        }
      },
      "execution_count": null,
      "outputs": [
        {
          "output_type": "execute_result",
          "data": {
            "text/plain": [
              "array([[-1, 10,  7],\n",
              "       [ 6,  4,  8],\n",
              "       [-2, -4,  9]])"
            ]
          },
          "metadata": {},
          "execution_count": 16
        }
      ]
    },
    {
      "cell_type": "code",
      "source": [],
      "metadata": {
        "id": "ZNBW3m5uwUjT"
      },
      "execution_count": null,
      "outputs": []
    },
    {
      "cell_type": "markdown",
      "source": [
        "**Questão 4 -** Crie uma matriz 5x5 do tipo ndarray que represente o número 1 em preto e branco. Sabendo que a cor branca é representada pelo valor 255 e a cor preta pelo valor 0. Utilize a função io da biblioteca skimage para plotar a imagem gerada."
      ],
      "metadata": {
        "id": "vvsL7WJyoOQW"
      }
    },
    {
      "cell_type": "code",
      "source": [
        "import numpy as np\n",
        "from skimage import io\n",
        "v5x5 = np.array( [  [255,255,0,255,255],\n",
        "                    [255,000,0,255,255],\n",
        "                    [255,255,0,255,255],\n",
        "                    [255,255,0,255,255],\n",
        "                    [255,255,0,255,255]], dtype=np.uint8)\n",
        "io.imshow(v5x5)\n",
        "io.show()"
      ],
      "metadata": {
        "id": "o-sbG4xa2nzD",
        "colab": {
          "base_uri": "https://localhost:8080/",
          "height": 297
        },
        "outputId": "ef540508-4343-44a0-ed69-812df4be516a"
      },
      "execution_count": 9,
      "outputs": [
        {
          "output_type": "display_data",
          "data": {
            "text/plain": [
              "<Figure size 432x288 with 1 Axes>"
            ],
            "image/png": "[encoded data removed]"
          },
          "metadata": {
            "needs_background": "light"
          }
        }
      ]
    },
    {
      "cell_type": "code",
      "source": [
        "from skimage import io\n",
        "v5[:,2] = 255\n",
        "v5\n",
        "io.imshow(v5)\n",
        "io.show()\n"
      ],
      "metadata": {
        "id": "ZzvJR8Hk2nwb",
        "colab": {
          "base_uri": "https://localhost:8080/",
          "height": 235
        },
        "outputId": "f0f2ba6a-7cde-4ed1-e974-59fbb643fa17"
      },
      "execution_count": 11,
      "outputs": [
        {
          "output_type": "error",
          "ename": "NameError",
          "evalue": "ignored",
          "traceback": [
            "\u001b[0;31m---------------------------------------------------------------------------\u001b[0m",
            "\u001b[0;31mNameError\u001b[0m                                 Traceback (most recent call last)",
            "\u001b[0;32m<ipython-input-11-0af131bfb8c1>\u001b[0m in \u001b[0;36m<module>\u001b[0;34m\u001b[0m\n\u001b[1;32m      1\u001b[0m \u001b[0;32mfrom\u001b[0m \u001b[0mskimage\u001b[0m \u001b[0;32mimport\u001b[0m \u001b[0mio\u001b[0m\u001b[0;34m\u001b[0m\u001b[0;34m\u001b[0m\u001b[0m\n\u001b[0;32m----> 2\u001b[0;31m \u001b[0mv5\u001b[0m\u001b[0;34m[\u001b[0m\u001b[0;34m:\u001b[0m\u001b[0;34m,\u001b[0m\u001b[0;36m2\u001b[0m\u001b[0;34m]\u001b[0m \u001b[0;34m=\u001b[0m \u001b[0;36m255\u001b[0m\u001b[0;34m\u001b[0m\u001b[0;34m\u001b[0m\u001b[0m\n\u001b[0m\u001b[1;32m      3\u001b[0m \u001b[0mv5\u001b[0m\u001b[0;34m\u001b[0m\u001b[0;34m\u001b[0m\u001b[0m\n\u001b[1;32m      4\u001b[0m \u001b[0mio\u001b[0m\u001b[0;34m.\u001b[0m\u001b[0mimshow\u001b[0m\u001b[0;34m(\u001b[0m\u001b[0mv5\u001b[0m\u001b[0;34m)\u001b[0m\u001b[0;34m\u001b[0m\u001b[0;34m\u001b[0m\u001b[0m\n\u001b[1;32m      5\u001b[0m \u001b[0mio\u001b[0m\u001b[0;34m.\u001b[0m\u001b[0mshow\u001b[0m\u001b[0;34m(\u001b[0m\u001b[0;34m)\u001b[0m\u001b[0;34m\u001b[0m\u001b[0;34m\u001b[0m\u001b[0m\n",
            "\u001b[0;31mNameError\u001b[0m: name 'v5' is not defined"
          ]
        }
      ]
    }
  ]
}